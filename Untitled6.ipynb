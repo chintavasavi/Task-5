{
 "cells": [
  {
   "cell_type": "markdown",
   "id": "90c75a06",
   "metadata": {},
   "source": [
    "Task1: Append and Modify Elements\n",
    "\n",
    "Create an empty list called numbers. Append the numbers 1, 2, and 3 to the list.\n",
    "Modify the element at index 1 to be 4.\n",
    "Print the updated list."
   ]
  },
  {
   "cell_type": "code",
   "execution_count": 1,
   "id": "81cf4d50",
   "metadata": {},
   "outputs": [],
   "source": [
    "number = []"
   ]
  },
  {
   "cell_type": "code",
   "execution_count": 2,
   "id": "f8fea0eb",
   "metadata": {},
   "outputs": [],
   "source": [
    "number.append(1)"
   ]
  },
  {
   "cell_type": "code",
   "execution_count": 3,
   "id": "10786aa4",
   "metadata": {},
   "outputs": [],
   "source": [
    "number.append(2)"
   ]
  },
  {
   "cell_type": "code",
   "execution_count": 4,
   "id": "2ed66117",
   "metadata": {},
   "outputs": [],
   "source": [
    "number.append(3)"
   ]
  },
  {
   "cell_type": "code",
   "execution_count": 5,
   "id": "62bcc20f",
   "metadata": {},
   "outputs": [
    {
     "data": {
      "text/plain": [
       "[1, 2, 3]"
      ]
     },
     "execution_count": 5,
     "metadata": {},
     "output_type": "execute_result"
    }
   ],
   "source": [
    "number"
   ]
  },
  {
   "cell_type": "code",
   "execution_count": 6,
   "id": "aab99009",
   "metadata": {},
   "outputs": [],
   "source": [
    "number.insert(1,4)"
   ]
  },
  {
   "cell_type": "code",
   "execution_count": 9,
   "id": "bc19444a",
   "metadata": {},
   "outputs": [
    {
     "data": {
      "text/plain": [
       "[1, 4, 2, 3]"
      ]
     },
     "execution_count": 9,
     "metadata": {},
     "output_type": "execute_result"
    }
   ],
   "source": [
    "number"
   ]
  },
  {
   "cell_type": "markdown",
   "id": "dbc3023b",
   "metadata": {},
   "source": [
    "Task2: Slicing and Concatenation\n",
    ".Create a list called fruits with elements 'apple', 'banana', 'orange', 'mango', and 'kiwi'.\n",
    "\n",
    ".Create a new list by slicing fruits to include only the citrus fruits ('orange' and 'mango\"). * Create a new list called tropical by slicing fruits to include only the tropical fruits ('banana\" and \"kiwi')\n",
    "\n",
    ".Concatenate citrus and tropical lists to create a new list called combined. Print combined."
   ]
  },
  {
   "cell_type": "code",
   "execution_count": 35,
   "id": "0bc87356",
   "metadata": {},
   "outputs": [],
   "source": [
    "fruits = ['apple','banana','orange','mango',\"kiwi\"]"
   ]
  },
  {
   "cell_type": "code",
   "execution_count": 36,
   "id": "5e7d3ea4",
   "metadata": {},
   "outputs": [],
   "source": [
    "citrus_fruits = fruits[2:4:]"
   ]
  },
  {
   "cell_type": "code",
   "execution_count": 37,
   "id": "cc450713",
   "metadata": {},
   "outputs": [
    {
     "data": {
      "text/plain": [
       "['orange', 'mango']"
      ]
     },
     "execution_count": 37,
     "metadata": {},
     "output_type": "execute_result"
    }
   ],
   "source": [
    "citrus_fruits"
   ]
  },
  {
   "cell_type": "code",
   "execution_count": 53,
   "id": "8dba8d4c",
   "metadata": {},
   "outputs": [],
   "source": [
    "tropical_fruit=fruits[1::3]"
   ]
  },
  {
   "cell_type": "code",
   "execution_count": 54,
   "id": "bdaaf2c9",
   "metadata": {},
   "outputs": [
    {
     "data": {
      "text/plain": [
       "['banana', 'kiwi']"
      ]
     },
     "execution_count": 54,
     "metadata": {},
     "output_type": "execute_result"
    }
   ],
   "source": [
    "tropical_fruit"
   ]
  },
  {
   "cell_type": "code",
   "execution_count": 61,
   "id": "ed2ff344",
   "metadata": {},
   "outputs": [],
   "source": [
    "combined =('citrus_fruit + tropical_fruit')"
   ]
  },
  {
   "cell_type": "code",
   "execution_count": 62,
   "id": "25c6b64e",
   "metadata": {},
   "outputs": [
    {
     "name": "stdout",
     "output_type": "stream",
     "text": [
      "citrus_fruit + tropical_fruit\n"
     ]
    }
   ],
   "source": [
    "print(combined)"
   ]
  },
  {
   "cell_type": "code",
   "execution_count": null,
   "id": "4fee3b7d",
   "metadata": {},
   "outputs": [],
   "source": []
  }
 ],
 "metadata": {
  "kernelspec": {
   "display_name": "Python 3 (ipykernel)",
   "language": "python",
   "name": "python3"
  },
  "language_info": {
   "codemirror_mode": {
    "name": "ipython",
    "version": 3
   },
   "file_extension": ".py",
   "mimetype": "text/x-python",
   "name": "python",
   "nbconvert_exporter": "python",
   "pygments_lexer": "ipython3",
   "version": "3.11.4"
  }
 },
 "nbformat": 4,
 "nbformat_minor": 5
}
